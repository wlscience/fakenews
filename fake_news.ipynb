{
 "cells": [
  {
   "cell_type": "markdown",
   "id": "23fc921d-1f97-4b69-a9b5-48448bc9ae5a",
   "metadata": {},
   "source": [
    "# Import libraries and dataset"
   ]
  },
  {
   "cell_type": "code",
   "execution_count": 1,
   "id": "cbd27ab9-5896-4db5-bd9d-a2dc5b68e19c",
   "metadata": {},
   "outputs": [],
   "source": [
    "import numpy as np \n",
    "import pandas as pd \n",
    "import matplotlib.pyplot as plt \n",
    "\n",
    "import re\n",
    "from nltk.corpus import stopwords\n",
    "from nltk.stem.porter import PorterStemmer\n",
    "\n",
    "import seaborn as sns\n",
    "color = sns.color_palette()\n",
    "sns.set_style('darkgrid')\n",
    "\n",
    "%matplotlib inline\n",
    "\n",
    "import warnings\n",
    "def ignore_warn(*args, **kwargs):\n",
    "    pass\n",
    "warnings.warn = ignore_warn"
   ]
  },
  {
   "cell_type": "code",
   "execution_count": 2,
   "id": "4cbf91a7-82bc-481c-afa3-9dd05a75f089",
   "metadata": {},
   "outputs": [],
   "source": [
    "train = pd.read_csv('train.csv', index_col=0)"
   ]
  },
  {
   "cell_type": "markdown",
   "id": "65bb85f2-d713-4864-8d23-6cfa95f5f9a6",
   "metadata": {},
   "source": [
    "#### Labels\n",
    "train.csv: A full training dataset with the following attributes:\n",
    "\n",
    "- id: unique id for a news article\n",
    "- title: the title of a news article\n",
    "- author: author of the news article\n",
    "- text: the text of the article; could be incomplete\n",
    "- label: a label that marks the article as potentially unreliable(1: unreliable, 0: reliable)\n",
    "\n",
    "test.csv: A testing training dataset with all the same attributes at train.csv without the label."
   ]
  },
  {
   "cell_type": "code",
   "execution_count": 3,
   "id": "696f2fcc-5efb-4495-acea-1cc078bf01ea",
   "metadata": {},
   "outputs": [
    {
     "data": {
      "text/html": [
       "<div>\n",
       "<style scoped>\n",
       "    .dataframe tbody tr th:only-of-type {\n",
       "        vertical-align: middle;\n",
       "    }\n",
       "\n",
       "    .dataframe tbody tr th {\n",
       "        vertical-align: top;\n",
       "    }\n",
       "\n",
       "    .dataframe thead th {\n",
       "        text-align: right;\n",
       "    }\n",
       "</style>\n",
       "<table border=\"1\" class=\"dataframe\">\n",
       "  <thead>\n",
       "    <tr style=\"text-align: right;\">\n",
       "      <th></th>\n",
       "      <th>title</th>\n",
       "      <th>author</th>\n",
       "      <th>text</th>\n",
       "      <th>label</th>\n",
       "    </tr>\n",
       "    <tr>\n",
       "      <th>id</th>\n",
       "      <th></th>\n",
       "      <th></th>\n",
       "      <th></th>\n",
       "      <th></th>\n",
       "    </tr>\n",
       "  </thead>\n",
       "  <tbody>\n",
       "    <tr>\n",
       "      <th>0</th>\n",
       "      <td>House Dem Aide: We Didn’t Even See Comey’s Let...</td>\n",
       "      <td>Darrell Lucus</td>\n",
       "      <td>House Dem Aide: We Didn’t Even See Comey’s Let...</td>\n",
       "      <td>1</td>\n",
       "    </tr>\n",
       "    <tr>\n",
       "      <th>1</th>\n",
       "      <td>FLYNN: Hillary Clinton, Big Woman on Campus - ...</td>\n",
       "      <td>Daniel J. Flynn</td>\n",
       "      <td>Ever get the feeling your life circles the rou...</td>\n",
       "      <td>0</td>\n",
       "    </tr>\n",
       "    <tr>\n",
       "      <th>2</th>\n",
       "      <td>Why the Truth Might Get You Fired</td>\n",
       "      <td>Consortiumnews.com</td>\n",
       "      <td>Why the Truth Might Get You Fired October 29, ...</td>\n",
       "      <td>1</td>\n",
       "    </tr>\n",
       "    <tr>\n",
       "      <th>3</th>\n",
       "      <td>15 Civilians Killed In Single US Airstrike Hav...</td>\n",
       "      <td>Jessica Purkiss</td>\n",
       "      <td>Videos 15 Civilians Killed In Single US Airstr...</td>\n",
       "      <td>1</td>\n",
       "    </tr>\n",
       "    <tr>\n",
       "      <th>4</th>\n",
       "      <td>Iranian woman jailed for fictional unpublished...</td>\n",
       "      <td>Howard Portnoy</td>\n",
       "      <td>Print \\nAn Iranian woman has been sentenced to...</td>\n",
       "      <td>1</td>\n",
       "    </tr>\n",
       "  </tbody>\n",
       "</table>\n",
       "</div>"
      ],
      "text/plain": [
       "                                                title              author  \\\n",
       "id                                                                          \n",
       "0   House Dem Aide: We Didn’t Even See Comey’s Let...       Darrell Lucus   \n",
       "1   FLYNN: Hillary Clinton, Big Woman on Campus - ...     Daniel J. Flynn   \n",
       "2                   Why the Truth Might Get You Fired  Consortiumnews.com   \n",
       "3   15 Civilians Killed In Single US Airstrike Hav...     Jessica Purkiss   \n",
       "4   Iranian woman jailed for fictional unpublished...      Howard Portnoy   \n",
       "\n",
       "                                                 text  label  \n",
       "id                                                            \n",
       "0   House Dem Aide: We Didn’t Even See Comey’s Let...      1  \n",
       "1   Ever get the feeling your life circles the rou...      0  \n",
       "2   Why the Truth Might Get You Fired October 29, ...      1  \n",
       "3   Videos 15 Civilians Killed In Single US Airstr...      1  \n",
       "4   Print \\nAn Iranian woman has been sentenced to...      1  "
      ]
     },
     "execution_count": 3,
     "metadata": {},
     "output_type": "execute_result"
    }
   ],
   "source": [
    "train.head()"
   ]
  },
  {
   "cell_type": "markdown",
   "id": "0685db4d-26af-4662-b1d3-996c62fb2e33",
   "metadata": {},
   "source": [
    "No need to randomize order as dataset appears to be interspersed with 1s and 0s"
   ]
  },
  {
   "cell_type": "code",
   "execution_count": 4,
   "id": "33924a6b-3b2b-479a-9010-9fe961973931",
   "metadata": {},
   "outputs": [
    {
     "data": {
      "text/plain": [
       "(20800, 4)"
      ]
     },
     "execution_count": 4,
     "metadata": {},
     "output_type": "execute_result"
    }
   ],
   "source": [
    "train.shape"
   ]
  },
  {
   "cell_type": "code",
   "execution_count": 5,
   "id": "39c15520-fd56-434a-9973-5c7a569eff8b",
   "metadata": {},
   "outputs": [
    {
     "data": {
      "text/plain": [
       "title      558\n",
       "author    1957\n",
       "text        39\n",
       "label        0\n",
       "dtype: int64"
      ]
     },
     "execution_count": 5,
     "metadata": {},
     "output_type": "execute_result"
    }
   ],
   "source": [
    "train.isnull().sum()"
   ]
  },
  {
   "cell_type": "markdown",
   "id": "920fec51-8870-455d-ab8f-7e081ab2a99b",
   "metadata": {},
   "source": [
    "Can fill null values with empty string since we have a big dataset"
   ]
  },
  {
   "cell_type": "code",
   "execution_count": 6,
   "id": "c39385ff-a2b3-4b1b-ace2-f01c854a4f80",
   "metadata": {},
   "outputs": [],
   "source": [
    "train = train.fillna('')"
   ]
  },
  {
   "cell_type": "code",
   "execution_count": 7,
   "id": "5dae4383-fb76-46cd-9e14-e10ceb75d424",
   "metadata": {},
   "outputs": [
    {
     "data": {
      "text/plain": [
       "1    10413\n",
       "0    10387\n",
       "Name: label, dtype: int64"
      ]
     },
     "execution_count": 7,
     "metadata": {},
     "output_type": "execute_result"
    }
   ],
   "source": [
    "train['label'].value_counts()"
   ]
  },
  {
   "cell_type": "markdown",
   "id": "55ea0c6e-b515-4fee-be2a-b89c48640b8c",
   "metadata": {},
   "source": [
    "Distribution of unreliable (1) and reliable (0) observations are about even"
   ]
  },
  {
   "cell_type": "code",
   "execution_count": 8,
   "id": "60d42db8-d8fd-46bc-bec5-e3dab6b4913f",
   "metadata": {},
   "outputs": [
    {
     "name": "stdout",
     "output_type": "stream",
     "text": [
      "<class 'pandas.core.frame.DataFrame'>\n",
      "Int64Index: 20800 entries, 0 to 20799\n",
      "Data columns (total 4 columns):\n",
      " #   Column  Non-Null Count  Dtype \n",
      "---  ------  --------------  ----- \n",
      " 0   title   20800 non-null  object\n",
      " 1   author  20800 non-null  object\n",
      " 2   text    20800 non-null  object\n",
      " 3   label   20800 non-null  int64 \n",
      "dtypes: int64(1), object(3)\n",
      "memory usage: 812.5+ KB\n"
     ]
    }
   ],
   "source": [
    "train.info()"
   ]
  },
  {
   "cell_type": "markdown",
   "id": "2d4c6afd-86bb-4d1b-8a8b-671a7da028c5",
   "metadata": {},
   "source": [
    "'label' column is already in numerical format, no data transformation required."
   ]
  },
  {
   "cell_type": "markdown",
   "id": "5d81163c-b162-48ca-80b1-7785ff9ef66d",
   "metadata": {},
   "source": [
    "# Pre-processing"
   ]
  },
  {
   "cell_type": "code",
   "execution_count": 9,
   "id": "8f0acad2-a89b-4fed-8e02-9c539d7241a9",
   "metadata": {},
   "outputs": [],
   "source": [
    "train['content'] = train['title'] + train['author']\n",
    "# Due to the length of each row in the 'text' column, we train the model using only the 'title' and 'author' columns"
   ]
  },
  {
   "cell_type": "code",
   "execution_count": 10,
   "id": "095ab0e6-9d86-4a4a-9084-1578bb840f56",
   "metadata": {},
   "outputs": [],
   "source": [
    "port_stem = PorterStemmer()\n",
    "\n",
    "def stemming(content):\n",
    "    stemmed_content = re.sub('[^a-zA-Z]', ' ', content ) # replace non-letters with empty string\n",
    "    stemmed_content = stemmed_content.lower() # make all words lower case\n",
    "    stemmed_content = stemmed_content.split() # split sentences into list of words\n",
    "    \n",
    "    # Remove stopwords, then remove prefixes & suffixes of remaining words to reduce them to their root words\n",
    "    # Stopwords are common words that carry little information \n",
    "    stemmed_content = [port_stem.stem(word) for word in stemmed_content if not word in stopwords.words('english')] \n",
    "    \n",
    "    \n",
    "    stemmed_content = ' '.join(stemmed_content) # join all the words together\n",
    "    return stemmed_content"
   ]
  },
  {
   "cell_type": "code",
   "execution_count": 11,
   "id": "8d7cb228-05b5-4fcc-9aed-2e34137bc18b",
   "metadata": {},
   "outputs": [],
   "source": [
    "train['content'] = train['content'].apply(stemming)"
   ]
  },
  {
   "cell_type": "code",
   "execution_count": 12,
   "id": "170f2bbc-bb97-4fc8-9d7a-dee69922b000",
   "metadata": {},
   "outputs": [],
   "source": [
    "from sklearn.feature_extraction.text import TfidfVectorizer\n",
    "from sklearn.model_selection import train_test_split"
   ]
  },
  {
   "cell_type": "code",
   "execution_count": 13,
   "id": "1ec25a2c-5a38-421f-9af4-3a1d3df75674",
   "metadata": {},
   "outputs": [],
   "source": [
    "# For X, drop the target variable and retain the rest of the features\n",
    "# Set y as target variable\n",
    "\n",
    "X = train['content']\n",
    "y = train['label']"
   ]
  },
  {
   "cell_type": "code",
   "execution_count": 14,
   "id": "5429646f-23c5-4d18-9966-54978d28a4e9",
   "metadata": {},
   "outputs": [],
   "source": [
    "# Convert text into numerical data for machine learning\n",
    "vectorizer = TfidfVectorizer()\n",
    "# Term Frequency (TF): number of times word appears in document\n",
    "# Inverse Document Frequency (IDF): measure of word's significance, based on its frequency across documents\n",
    "\n",
    "vectorizer.fit(X) # compute IDF values of words from training data \n",
    "X = vectorizer.transform(X) # compute TF-IDF values using IDF values from previous step"
   ]
  },
  {
   "cell_type": "code",
   "execution_count": 15,
   "id": "a3f54a4c-7d31-485a-a9b5-7860453462fa",
   "metadata": {},
   "outputs": [],
   "source": [
    "# Split training and testing data in 2:8 ratio\n",
    "X_train, X_test, y_train, y_test = train_test_split(X, y, test_size=0.2, stratify=y)"
   ]
  },
  {
   "cell_type": "markdown",
   "id": "e4267a5f-25a6-4138-843e-936250906522",
   "metadata": {},
   "source": [
    "# Data Modeling"
   ]
  },
  {
   "cell_type": "code",
   "execution_count": 16,
   "id": "0ebd3fbc-241b-4b3c-b9f1-56701e067de4",
   "metadata": {},
   "outputs": [],
   "source": [
    "from sklearn.linear_model import LogisticRegression\n",
    "from sklearn.metrics import accuracy_score, classification_report,confusion_matrix\n",
    "import scikitplot as skplt\n",
    "from sklearn.model_selection import GridSearchCV"
   ]
  },
  {
   "cell_type": "markdown",
   "id": "a10283e3-74e6-47ef-ace2-908552f7f30c",
   "metadata": {},
   "source": [
    "### Logistic Regression "
   ]
  },
  {
   "cell_type": "code",
   "execution_count": 17,
   "id": "084dc05b-878f-4116-8993-15f9ded8d317",
   "metadata": {},
   "outputs": [],
   "source": [
    "# Fit model to training data\n",
    "\n",
    "param_grid = {'C': [0.001, 0.01, 0.1, 1, 10, 100, 1000] }\n",
    "\n",
    "lr = LogisticRegression()\n",
    "\n",
    "# Loop through predefined hyperparameters to select best ones\n",
    "lr = GridSearchCV(estimator = lr,\n",
    "                 param_grid=param_grid,\n",
    "                 n_jobs = -1)\n",
    "\n",
    "# Fit training data to logistic regression\n",
    "lr.fit(X_train, y_train);"
   ]
  },
  {
   "cell_type": "markdown",
   "id": "c9699d74-80da-4370-bedc-45a942cdfd6b",
   "metadata": {},
   "source": [
    "#### Training Data"
   ]
  },
  {
   "cell_type": "code",
   "execution_count": 18,
   "id": "4d5a8377-9696-4c4b-a3df-19f7f01087be",
   "metadata": {},
   "outputs": [
    {
     "name": "stdout",
     "output_type": "stream",
     "text": [
      "Training Accuracy:  1.0\n"
     ]
    }
   ],
   "source": [
    "# training data accuracy\n",
    "y_pred = lr.predict(X_train)\n",
    "y_pred_acc = accuracy_score(y_pred, y_train)\n",
    "print ('Training Accuracy: ', y_pred_acc)"
   ]
  },
  {
   "cell_type": "code",
   "execution_count": 19,
   "id": "a7a18969-312a-4890-9593-1080957f9f32",
   "metadata": {},
   "outputs": [
    {
     "name": "stdout",
     "output_type": "stream",
     "text": [
      "              precision    recall  f1-score   support\n",
      "\n",
      "           0       1.00      1.00      1.00      8310\n",
      "           1       1.00      1.00      1.00      8330\n",
      "\n",
      "    accuracy                           1.00     16640\n",
      "   macro avg       1.00      1.00      1.00     16640\n",
      "weighted avg       1.00      1.00      1.00     16640\n",
      "\n"
     ]
    }
   ],
   "source": [
    "print(classification_report(y_pred, y_train))"
   ]
  },
  {
   "cell_type": "code",
   "execution_count": 20,
   "id": "7ab3a83e-c420-429c-b410-274e68b83dd5",
   "metadata": {},
   "outputs": [
    {
     "name": "stdout",
     "output_type": "stream",
     "text": [
      "[[8310    0]\n",
      " [   0 8330]]\n"
     ]
    },
    {
     "data": {
      "image/png": "[encoded data removed]",
      "text/plain": [
       "<Figure size 432x288 with 2 Axes>"
      ]
     },
     "metadata": {
      "needs_background": "light"
     },
     "output_type": "display_data"
    }
   ],
   "source": [
    "print(confusion_matrix(y_train, y_pred))\n",
    "skplt.metrics.plot_confusion_matrix(y_train, y_pred);"
   ]
  },
  {
   "cell_type": "markdown",
   "id": "f53ffdc1-b0aa-4077-84cc-bceaee49764d",
   "metadata": {},
   "source": [
    "#### Test Data"
   ]
  },
  {
   "cell_type": "code",
   "execution_count": 21,
   "id": "45a6183a-d0e0-4da4-b9ee-b8ced5dffdf2",
   "metadata": {},
   "outputs": [
    {
     "name": "stdout",
     "output_type": "stream",
     "text": [
      "Test Accuracy:  0.9865384615384616\n"
     ]
    }
   ],
   "source": [
    "# Use model to predict test data\n",
    "y_pred = lr.predict(X_test)\n",
    "y_pred_acc = accuracy_score(y_pred, y_test)\n",
    "print ('Test Accuracy: ', y_pred_acc)"
   ]
  },
  {
   "cell_type": "code",
   "execution_count": 22,
   "id": "d325311a-91f7-4682-8ec9-6a14a448525d",
   "metadata": {},
   "outputs": [
    {
     "name": "stdout",
     "output_type": "stream",
     "text": [
      "              precision    recall  f1-score   support\n",
      "\n",
      "           0       0.99      0.99      0.99      2071\n",
      "           1       0.99      0.99      0.99      2089\n",
      "\n",
      "    accuracy                           0.99      4160\n",
      "   macro avg       0.99      0.99      0.99      4160\n",
      "weighted avg       0.99      0.99      0.99      4160\n",
      "\n"
     ]
    }
   ],
   "source": [
    "print(classification_report(y_pred, y_test))"
   ]
  },
  {
   "cell_type": "code",
   "execution_count": 23,
   "id": "ad59c674-4e03-4f6a-a32c-ab13dcc0f25d",
   "metadata": {},
   "outputs": [
    {
     "name": "stdout",
     "output_type": "stream",
     "text": [
      "[[2046   31]\n",
      " [  25 2058]]\n"
     ]
    },
    {
     "data": {
      "image/png": "[encoded data removed]",
      "text/plain": [
       "<Figure size 432x288 with 2 Axes>"
      ]
     },
     "metadata": {
      "needs_background": "light"
     },
     "output_type": "display_data"
    }
   ],
   "source": [
    "print(confusion_matrix(y_test, y_pred))\n",
    "skplt.metrics.plot_confusion_matrix(y_test, y_pred);"
   ]
  }
 ],
 "metadata": {
  "kernelspec": {
   "display_name": "Python 3",
   "language": "python",
   "name": "python3"
  },
  "language_info": {
   "codemirror_mode": {
    "name": "ipython",
    "version": 3
   },
   "file_extension": ".py",
   "mimetype": "text/x-python",
   "name": "python",
   "nbconvert_exporter": "python",
   "pygments_lexer": "ipython3",
   "version": "3.8.8"
  }
 },
 "nbformat": 4,
 "nbformat_minor": 5
}
